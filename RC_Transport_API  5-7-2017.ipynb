{
 "cells": [
  {
   "cell_type": "markdown",
   "metadata": {},
   "source": [
    "https://github.com/timcnicholls/transport_api_demo/blob/master/harwell_wantage_bus.py\n",
    "\n",
    "https://github.com/timcnicholls/home-assistant/blob/transport-api/homeassistant/components/sensor/uk_transport.py"
   ]
  },
  {
   "cell_type": "code",
   "execution_count": 71,
   "metadata": {
    "collapsed": true
   },
   "outputs": [],
   "source": [
    "import requests\n",
    "import json\n",
    "import re\n",
    "import pprint\n",
    "from datetime import datetime, timedelta, time, date\n",
    "from collections import deque\n",
    "from time import sleep\n",
    "\n",
    "api_secrets_file = '/Users/robincole/Desktop/transportapi_secrets.json'\n",
    "\n",
    "transport_api_url_base = \"https://transportapi.com/v3/uk/\"\n",
    "\n",
    "def print_json(json_data):\n",
    "    pprint.PrettyPrinter().pprint(json_data)\n",
    "\n",
    "def load_api_secrets(filename):\n",
    "    try:\n",
    "        with open(filename, 'r') as fp:\n",
    "            api_params = json.load(fp)\n",
    "    except Exception as e:\n",
    "        print('Failed to load API secrets key: {}'.format(e))\n",
    "        api_params = None\n",
    "    return api_params\n",
    "\n",
    "def _delta_mins(hhmm_time_str):\n",
    "    \"\"\"Calculate time delta in minutes to a time in hh:mm format.\"\"\"\n",
    "    now = datetime.now()\n",
    "    hhmm_time = datetime.strptime(hhmm_time_str, '%H:%M')\n",
    "\n",
    "    hhmm_datetime = datetime(\n",
    "        now.year, now.month, now.day,\n",
    "        hour=hhmm_time.hour, minute=hhmm_time.minute\n",
    "    )\n",
    "    if hhmm_datetime < now:\n",
    "        hhmm_datetime += timedelta(days=1)\n",
    "\n",
    "    delta_mins = (hhmm_datetime - now).seconds // 60\n",
    "    return delta_mins"
   ]
  },
  {
   "cell_type": "code",
   "execution_count": 8,
   "metadata": {
    "collapsed": false
   },
   "outputs": [],
   "source": [
    "api_params = load_api_secrets(api_secrets_file)"
   ]
  },
  {
   "cell_type": "code",
   "execution_count": 9,
   "metadata": {
    "collapsed": false
   },
   "outputs": [],
   "source": [
    "# Tims code\n",
    "ATTR_STOP_NAME = 'stop_name'\n",
    "ATTR_REQUEST_TIME = 'request_time'\n",
    "ATTRIBUTION = \"Data provided by transportapi.com\"\n",
    "ATTR_ATTRIBUTION = 'attribution'  # from const module\n",
    "\n",
    "class UkTransportSensor():  # Entity\n",
    "    \"\"\"\n",
    "    Sensor that reads the UK transport web API.\n",
    "    transportapi.com provides comprehensive transport data for UK train, tube\n",
    "    and bus travel across the UK via simple JSON API. Subclasses of this\n",
    "    base class can be used to access specific types of information.\n",
    "    \"\"\"\n",
    "\n",
    "    TRANSPORT_API_URL_BASE = \"https://transportapi.com/v3/uk/\"\n",
    "    ICON = 'mdi:car'\n",
    "\n",
    "    def __init__(self, name, api_app_id, api_app_key, url):\n",
    "        \"\"\"Initialize the sensor.\"\"\"\n",
    "        self._data = {}    # dict to place all the json data in\n",
    "        self._api_app_id = api_app_id\n",
    "        self._api_app_key = api_app_key\n",
    "        self._url = self.TRANSPORT_API_URL_BASE + url\n",
    "        self._name = name\n",
    "        self._state = None\n",
    "\n",
    "    @property\n",
    "    def name(self):\n",
    "        \"\"\"Return the name of the sensor.\"\"\"\n",
    "        return self._name\n",
    "\n",
    "    @property\n",
    "    def state(self):\n",
    "        \"\"\"Return the state of the sensor.\"\"\"\n",
    "        return self._state\n",
    "\n",
    "    @property\n",
    "    def icon(self):\n",
    "        \"\"\"Icon to use in the frontend, if any.\"\"\"\n",
    "        return self.ICON\n",
    "\n",
    "    def _do_api_request(self, params):\n",
    "        \"\"\"Perform an API request.\"\"\"\n",
    "        request_params = dict({\n",
    "            'app_id': self._api_app_id,\n",
    "            'app_key': self._api_app_key,\n",
    "        }, **params)\n",
    "        try:\n",
    "            response = requests.get(self._url, params=request_params)\n",
    "            response.raise_for_status()\n",
    "            self._data = response.json()\n",
    "        except requests.RequestException as req_exc:\n",
    "            _LOGGER.warning(\n",
    "                'Invalid response from transportapi.com: %s', req_exc\n",
    "            )"
   ]
  },
  {
   "cell_type": "code",
   "execution_count": 10,
   "metadata": {
    "collapsed": true
   },
   "outputs": [],
   "source": [
    "ATTR_NEXT_BUSES = 'next_buses'\n",
    "ATTR_ATCOCODE = 'atcocode'\n",
    "ATTR_LOCALITY = 'locality'\n",
    "\n",
    "class UkTransportLiveBusTimeSensor(UkTransportSensor):\n",
    "    \"\"\"Live bus time sensor from UK transportapi.com.\"\"\"\n",
    "    ICON = 'mdi:bus'\n",
    "\n",
    "    def __init__(self, api_app_id, api_app_key, stop_atcocode, bus_direction):\n",
    "        \"\"\"Construct a live bus time sensor.\"\"\"\n",
    "        self._stop_atcocode = stop_atcocode\n",
    "        self._bus_direction = bus_direction\n",
    "        self._next_buses = []\n",
    "        self._destination_re = re.compile(\n",
    "            '{}'.format(bus_direction), re.IGNORECASE\n",
    "        )\n",
    "\n",
    "        sensor_name = 'Next bus to {}'.format(bus_direction)\n",
    "        stop_url = 'bus/stop/{}/live.json'.format(stop_atcocode)\n",
    "\n",
    "        UkTransportSensor.__init__(\n",
    "            self, sensor_name, api_app_id, api_app_key, stop_url\n",
    "        )\n",
    "\n",
    "    def update(self):\n",
    "        \"\"\"Get the latest live departure data for the specified stop.\"\"\"\n",
    "        params = {'group': 'route', 'nextbuses': 'no'}\n",
    "\n",
    "        self._do_api_request(params)\n",
    "\n",
    "        if self._data != {}:\n",
    "            self._next_buses = []\n",
    "\n",
    "            for (route, departures) in self._data['departures'].items():\n",
    "                for departure in departures:\n",
    "                    if self._destination_re.search(departure['direction']):\n",
    "                        self._next_buses.append({\n",
    "                            'route': route,\n",
    "                            'direction': departure['direction'],\n",
    "                            'scheduled': departure['aimed_departure_time'],\n",
    "                            'estimated': departure['best_departure_estimate']\n",
    "                        })\n",
    "\n",
    "            self._state = min(map(\n",
    "                _delta_mins, [bus['scheduled'] for bus in self._next_buses]    # get the next scheduled bus mins until\n",
    "            ))\n",
    "\n",
    "    @property\n",
    "    def device_state_attributes(self):\n",
    "        \"\"\"Return other details about the sensor state.\"\"\"\n",
    "        if self._data is not None:\n",
    "            attrs = {ATTR_ATTRIBUTION: ATTRIBUTION}  # {'attribution': 'Data provided by transportapi.com'}\n",
    "            for key in [\n",
    "                    ATTR_ATCOCODE, ATTR_LOCALITY, ATTR_STOP_NAME,\n",
    "                    ATTR_REQUEST_TIME\n",
    "            ]:\n",
    "                attrs[key] = self._data.get(key)           # place these attributes \n",
    "            attrs[ATTR_NEXT_BUSES] = self._next_buses      # not in \n",
    "            print_json(attrs)\n",
    "            return attrs\n",
    "\n",
    "    @property\n",
    "    def unit_of_measurement(self):\n",
    "        \"\"\"Return the unit this state is expressed in.\"\"\"\n",
    "        return \"min\""
   ]
  },
  {
   "cell_type": "code",
   "execution_count": 11,
   "metadata": {
    "collapsed": false
   },
   "outputs": [],
   "source": [
    "CONF_API_APP_ID = api_params['app_id']\n",
    "CONF_API_APP_KEY = api_params['app_key']\n",
    "bus_stop_atcocode =  '340000368SHE'\n",
    "bus_direction =  'Parkway Station'         # always work. Class throws exception if no next bus\n",
    "\n",
    "Bus_sensor = UkTransportLiveBusTimeSensor(CONF_API_APP_ID, CONF_API_APP_KEY, bus_stop_atcocode, bus_direction)\n",
    "Bus_sensor.update()"
   ]
  },
  {
   "cell_type": "code",
   "execution_count": 13,
   "metadata": {
    "collapsed": false
   },
   "outputs": [],
   "source": [
    "#Bus_sensor._data"
   ]
  },
  {
   "cell_type": "code",
   "execution_count": 14,
   "metadata": {
    "collapsed": false
   },
   "outputs": [
    {
     "data": {
      "text/plain": [
       "31"
      ]
     },
     "execution_count": 14,
     "metadata": {},
     "output_type": "execute_result"
    }
   ],
   "source": [
    "Bus_sensor._state         # mins til next bus"
   ]
  },
  {
   "cell_type": "code",
   "execution_count": 15,
   "metadata": {
    "collapsed": false
   },
   "outputs": [],
   "source": [
    "# As per bus but route becomes origin_name, direction becomes destination_name, next_suses becomes next_trains\n",
    "ATTR_NEXT_TRAINS = 'next_trains'\n",
    "ATTR_STATION_CODE = 'station_code'\n",
    "ATTR_DESTINATION_NAME = 'destination_name'\n",
    "\n",
    "\n",
    "class UkTransportLiveTrainTimeSensor(UkTransportSensor):\n",
    "    \"\"\"Live train time sensor from UK transportapi.com.\"\"\"\n",
    "    ICON = 'mdi:train'\n",
    "\n",
    "    def __init__(self, api_app_id, api_app_key, station_code, destination_name):\n",
    "        \"\"\"Construct a live bus time sensor.\"\"\"\n",
    "        self._station_code = station_code         # stick to the naming convention of transportAPI\n",
    "        self._destination_name = destination_name\n",
    "        self._next_trains = {}\n",
    "\n",
    "        sensor_name = 'Next train to {}'.format(destination_name)\n",
    "        query_url =  'train/station/{}/live.json'.format(station_code)\n",
    "        \n",
    "        print(query_url)\n",
    "        # also requires '&darwin=false&destination=WAT&train_status=passenger'\n",
    "\n",
    "        UkTransportSensor.__init__(\n",
    "            self, sensor_name, api_app_id, api_app_key, query_url\n",
    "        )\n",
    "\n",
    "    def update(self):\n",
    "        \"\"\"Get the latest live departure data for the specified stop.\"\"\"\n",
    "        params = {'darwin': 'false', 'destination': self._destination_name, 'train_status': 'passenger'}  \n",
    "\n",
    "        self._do_api_request(params)\n",
    "\n",
    "        if self._data != {}:\n",
    "            self._next_trains = []\n",
    "\n",
    "            for departure in self._data['departures']['all']:      # don't need a regex search as passing in destination to search                \n",
    "                #print_json(departure)   # uncomment to see all fields\n",
    "                self._next_trains.append({\n",
    "                    'origin_name': departure['origin_name'],\n",
    "                    'destination_name': departure['destination_name'],\n",
    "                    'status': departure['status'],\n",
    "                    'scheduled': departure['aimed_departure_time'],                            \n",
    "                    'estimated': departure['expected_departure_time'],\n",
    "                    'platform': departure['platform'],\n",
    "                    'operator_name': departure['operator_name']\n",
    "                    })\n",
    "\n",
    "            self._state = min(map(\n",
    "                _delta_mins, [train['scheduled'] for train in self._next_trains]\n",
    "            ))\n",
    "\n",
    "    @property\n",
    "    def device_state_attributes(self):\n",
    "        \"\"\"Return other details about the sensor state.\"\"\"\n",
    "        if self._data is not None:\n",
    "            attrs = {ATTR_ATTRIBUTION: ATTRIBUTION}  # {'attribution': 'Data provided by transportapi.com'}\n",
    "            for key in [\n",
    "                    ATTR_STATION_CODE, \n",
    "                    ATTR_DESTINATION_NAME\n",
    "            ]:\n",
    "                attrs[key] = self._data.get(key)           # place these attributes \n",
    "            attrs[ATTR_NEXT_TRAINS] = self._next_trains\n",
    "            print_json(attrs)\n",
    "            return attrs\n",
    "\n",
    "    @property\n",
    "    def unit_of_measurement(self):\n",
    "        \"\"\"Return the unit this state is expressed in.\"\"\"\n",
    "        return \"min\" "
   ]
  },
  {
   "cell_type": "code",
   "execution_count": 16,
   "metadata": {
    "collapsed": false
   },
   "outputs": [
    {
     "name": "stdout",
     "output_type": "stream",
     "text": [
      "train/station/WIM/live.json\n"
     ]
    }
   ],
   "source": [
    "station_code = 'WIM'\n",
    "destination_name = 'WAT'\n",
    "\n",
    "Train_sensor_1 = UkTransportLiveTrainTimeSensor(CONF_API_APP_ID, CONF_API_APP_KEY, station_code, destination_name)\n",
    "Train_sensor_1.update()"
   ]
  },
  {
   "cell_type": "code",
   "execution_count": 17,
   "metadata": {
    "collapsed": false
   },
   "outputs": [
    {
     "data": {
      "text/plain": [
       "0"
      ]
     },
     "execution_count": 17,
     "metadata": {},
     "output_type": "execute_result"
    }
   ],
   "source": [
    "Train_sensor_1._state         # mins until next train"
   ]
  },
  {
   "cell_type": "code",
   "execution_count": 18,
   "metadata": {
    "collapsed": false
   },
   "outputs": [
    {
     "data": {
      "text/plain": [
       "{'destination_name': 'London Waterloo',\n",
       " 'estimated': '06:05',\n",
       " 'operator_name': 'South West Trains',\n",
       " 'origin_name': 'Guildford',\n",
       " 'platform': '5',\n",
       " 'scheduled': '06:05',\n",
       " 'status': 'EARLY'}"
      ]
     },
     "execution_count": 18,
     "metadata": {},
     "output_type": "execute_result"
    }
   ],
   "source": [
    "Train_sensor_1._next_trains[0]"
   ]
  },
  {
   "cell_type": "markdown",
   "metadata": {
    "collapsed": false
   },
   "source": [
    "# Class to log requests\n",
    "\n",
    "Create a class to log each request and determines if close to the 1000 requests per day limit. Will require a deque to keep log of the times that requests were made. The time of new requests are appended to the deque. We only care about the number of requests in a 24 hour period so with each request we check if the oldest request happened more than 24 hours ago and if yes we pop it out. If we get close to our limit threshold then do some"
   ]
  },
  {
   "cell_type": "code",
   "execution_count": 53,
   "metadata": {
    "collapsed": false
   },
   "outputs": [],
   "source": [
    "class RequestLogger(object):\n",
    "    \"\"\"Class to log requests.\"\"\"\n",
    "\n",
    "    def __init__(self):\n",
    "        self._requests_log = deque()      # an empty log\n",
    "        self._num_daily_requests = None   # variable for total number of daily requests\n",
    "        self._limit  = 5                  # do something when num_daily_requests above this\n",
    "        \n",
    "    @property\n",
    "    def num_daily_requests(self):\n",
    "        \"\"\"Return the number of daily requests.\"\"\"\n",
    "        return self._num_daily_requests\n",
    "    \n",
    "    def log(self):\n",
    "        now = datetime.now()\n",
    "        \n",
    "        # If limit of 1000 requests reached\n",
    "        if len(self._requests_log) == self._limit-1:      # minus 1 since list in\n",
    "            left_element = self._requests_log.popleft()   # pop out the last element\n",
    "            print(left_element)\n",
    "               \n",
    "        self._requests_log.append(now)                 \n",
    "        self._num_daily_requests = len(self._requests_log)"
   ]
  },
  {
   "cell_type": "code",
   "execution_count": 54,
   "metadata": {
    "collapsed": false
   },
   "outputs": [
    {
     "name": "stdout",
     "output_type": "stream",
     "text": [
      "0\n",
      "1\n",
      "2\n",
      "2017-07-05 06:42:01.465689\n",
      "3\n",
      "2017-07-05 06:42:02.471108\n",
      "4\n",
      "2017-07-05 06:42:03.473937\n",
      "5\n",
      "2017-07-05 06:42:04.477096\n",
      "6\n",
      "2017-07-05 06:42:05.481187\n",
      "7\n",
      "2017-07-05 06:42:06.481593\n",
      "8\n",
      "2017-07-05 06:42:07.481955\n",
      "9\n",
      "2017-07-05 06:42:08.482189\n"
     ]
    }
   ],
   "source": [
    "my_log = RequestLogger()\n",
    "\n",
    "for i in range(10):\n",
    "    print(i)\n",
    "    my_log.log()\n",
    "    sleep(1)"
   ]
  },
  {
   "cell_type": "code",
   "execution_count": 55,
   "metadata": {
    "collapsed": false
   },
   "outputs": [
    {
     "name": "stdout",
     "output_type": "stream",
     "text": [
      "2017-07-05 07:01:41.339446\n",
      "2017-07-04 07:01:41.339324\n"
     ]
    }
   ],
   "source": [
    "yesterday = datetime.now() - timedelta(hours=24)\n",
    "print(datetime.now())\n",
    "print(yesterday)"
   ]
  },
  {
   "cell_type": "markdown",
   "metadata": {},
   "source": [
    "Dont need this class. Just add logic to determine the update rate in between assigned ranges"
   ]
  },
  {
   "cell_type": "markdown",
   "metadata": {},
   "source": [
    "# Windows class\n",
    "Class to take the windows, calc number of requests\n",
    "\n",
    "https://github.com/robmarkcole/TrasportAPI-HASS/issues/8"
   ]
  },
  {
   "cell_type": "code",
   "execution_count": 88,
   "metadata": {
    "collapsed": false
   },
   "outputs": [
    {
     "data": {
      "text/plain": [
       "'16:15'"
      ]
     },
     "execution_count": 88,
     "metadata": {},
     "output_type": "execute_result"
    }
   ],
   "source": [
    "d = date(2017, 6, 12)\n",
    "t = time(16, 0)\n",
    "\n",
    "future_time = datetime.combine(d, t) +  timedelta(minutes=15)\n",
    "future_time.time().strftime(\"%H:%M\")    "
   ]
  },
  {
   "cell_type": "code",
   "execution_count": 89,
   "metadata": {
    "collapsed": true
   },
   "outputs": [],
   "source": [
    "# From config for each sensor, the list of windows\n",
    "\n",
    "d = date(2017, 6, 12)       # use to construct datetimes\n",
    "\n",
    "windows = [\n",
    "    {'Start': datetime.combine(d, time(7, 0)),              # a datetime.time()\n",
    "     'Duration': timedelta(hours=1),        # a time delta\n",
    "     'Request rate': timedelta(minutes=15)  },    # a time delta\n",
    "    {'Start': datetime.combine(d, time(16, 0)),              # a datetime.time()\n",
    "     'Duration': timedelta(hours=2),        # a time delta\n",
    "     'Request rate': timedelta(minutes=5)  },    # a time delta\n",
    "]"
   ]
  },
  {
   "cell_type": "code",
   "execution_count": 90,
   "metadata": {
    "collapsed": false
   },
   "outputs": [
    {
     "data": {
      "text/plain": [
       "4.0"
      ]
     },
     "execution_count": 90,
     "metadata": {},
     "output_type": "execute_result"
    }
   ],
   "source": [
    "windows[0]['Duration']/windows[0]['Request rate']       # calc number of requests"
   ]
  },
  {
   "cell_type": "code",
   "execution_count": 91,
   "metadata": {
    "collapsed": false
   },
   "outputs": [
    {
     "data": {
      "text/plain": [
       "True"
      ]
     },
     "execution_count": 91,
     "metadata": {},
     "output_type": "execute_result"
    }
   ],
   "source": [
    "windows[0]['Start'] + windows[0]['Duration']  < windows[1]['Start']   # validate no overlapping windows"
   ]
  },
  {
   "cell_type": "code",
   "execution_count": null,
   "metadata": {
    "collapsed": true
   },
   "outputs": [],
   "source": []
  }
 ],
 "metadata": {
  "anaconda-cloud": {},
  "kernelspec": {
   "display_name": "Python [conda root]",
   "language": "python",
   "name": "conda-root-py"
  },
  "language_info": {
   "codemirror_mode": {
    "name": "ipython",
    "version": 3
   },
   "file_extension": ".py",
   "mimetype": "text/x-python",
   "name": "python",
   "nbconvert_exporter": "python",
   "pygments_lexer": "ipython3",
   "version": "3.5.2"
  }
 },
 "nbformat": 4,
 "nbformat_minor": 1
}
