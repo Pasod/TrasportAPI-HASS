{
 "cells": [
  {
   "cell_type": "markdown",
   "metadata": {},
   "source": [
    "https://github.com/timcnicholls/transport_api_demo/blob/master/harwell_wantage_bus.py\n",
    "\n",
    "https://github.com/timcnicholls/home-assistant/blob/transport-api/homeassistant/components/sensor/uk_transport.py"
   ]
  },
  {
   "cell_type": "code",
   "execution_count": 21,
   "metadata": {
    "collapsed": true
   },
   "outputs": [],
   "source": [
    "import requests\n",
    "import json\n",
    "import re\n",
    "import pprint\n",
    "from datetime import datetime, timedelta\n",
    "\n",
    "api_secrets_file = 'transportapi_secrets_example.json'\n",
    "\n",
    "transport_api_url_base = \"https://transportapi.com/v3/uk/\"\n",
    "\n",
    "def print_json(json_data):\n",
    "    pprint.PrettyPrinter().pprint(json_data)\n",
    "\n",
    "def load_api_secrets(filename):\n",
    "    try:\n",
    "        with open(filename, 'r') as fp:\n",
    "            api_params = json.load(fp)\n",
    "    except Exception as e:\n",
    "        print('Failed to load API secrets key: {}'.format(e))\n",
    "        api_params = None\n",
    "    return api_params\n",
    "\n",
    "def _delta_mins(hhmm_time_str):\n",
    "    \"\"\"Calculate time delta in minutes to a time in hh:mm format.\"\"\"\n",
    "    now = datetime.now()\n",
    "    hhmm_time = datetime.strptime(hhmm_time_str, '%H:%M')\n",
    "\n",
    "    hhmm_datetime = datetime(\n",
    "        now.year, now.month, now.day,\n",
    "        hour=hhmm_time.hour, minute=hhmm_time.minute\n",
    "    )\n",
    "    if hhmm_datetime < now:\n",
    "        hhmm_datetime += timedelta(days=1)\n",
    "\n",
    "    delta_mins = (hhmm_datetime - now).seconds // 60\n",
    "    return delta_mins"
   ]
  },
  {
   "cell_type": "code",
   "execution_count": 22,
   "metadata": {
    "collapsed": false
   },
   "outputs": [],
   "source": [
    "api_params = load_api_secrets(api_secrets_file)"
   ]
  },
  {
   "cell_type": "code",
   "execution_count": 136,
   "metadata": {
    "collapsed": false
   },
   "outputs": [],
   "source": [
    "# Tims code\n",
    "ATTR_STOP_NAME = 'stop_name'\n",
    "ATTR_REQUEST_TIME = 'request_time'\n",
    "ATTRIBUTION = \"Data provided by transportapi.com\"\n",
    "ATTR_ATTRIBUTION = 'attribution'  # from const module\n",
    "\n",
    "class UkTransportSensor():  # Entity\n",
    "    \"\"\"\n",
    "    Sensor that reads the UK transport web API.\n",
    "    transportapi.com provides comprehensive transport data for UK train, tube\n",
    "    and bus travel across the UK via simple JSON API. Subclasses of this\n",
    "    base class can be used to access specific types of information.\n",
    "    \"\"\"\n",
    "\n",
    "    TRANSPORT_API_URL_BASE = \"https://transportapi.com/v3/uk/\"\n",
    "    ICON = 'mdi:car'\n",
    "\n",
    "    def __init__(self, name, api_app_id, api_app_key, url):\n",
    "        \"\"\"Initialize the sensor.\"\"\"\n",
    "        self._data = {}    # dict to place all the json data in\n",
    "        self._api_app_id = api_app_id\n",
    "        self._api_app_key = api_app_key\n",
    "        self._url = self.TRANSPORT_API_URL_BASE + url\n",
    "        self._name = name\n",
    "        self._state = None\n",
    "\n",
    "    @property\n",
    "    def name(self):\n",
    "        \"\"\"Return the name of the sensor.\"\"\"\n",
    "        return self._name\n",
    "\n",
    "    @property\n",
    "    def state(self):\n",
    "        \"\"\"Return the state of the sensor.\"\"\"\n",
    "        return self._state\n",
    "\n",
    "    @property\n",
    "    def icon(self):\n",
    "        \"\"\"Icon to use in the frontend, if any.\"\"\"\n",
    "        return self.ICON\n",
    "\n",
    "    def _do_api_request(self, params):\n",
    "        \"\"\"Perform an API request.\"\"\"\n",
    "        request_params = dict({\n",
    "            'app_id': self._api_app_id,\n",
    "            'app_key': self._api_app_key,\n",
    "        }, **params)\n",
    "        try:\n",
    "            response = requests.get(self._url, params=request_params)\n",
    "            response.raise_for_status()\n",
    "            self._data = response.json()\n",
    "        except requests.RequestException as req_exc:\n",
    "            _LOGGER.warning(\n",
    "                'Invalid response from transportapi.com: %s', req_exc\n",
    "            )"
   ]
  },
  {
   "cell_type": "code",
   "execution_count": 137,
   "metadata": {
    "collapsed": true
   },
   "outputs": [],
   "source": [
    "ATTR_NEXT_BUSES = 'next_buses'\n",
    "ATTR_ATCOCODE = 'atcocode'\n",
    "ATTR_LOCALITY = 'locality'\n",
    "\n",
    "class UkTransportLiveBusTimeSensor(UkTransportSensor):\n",
    "    \"\"\"Live bus time sensor from UK transportapi.com.\"\"\"\n",
    "    ICON = 'mdi:bus'\n",
    "\n",
    "    def __init__(self, api_app_id, api_app_key, stop_atcocode, bus_direction):\n",
    "        \"\"\"Construct a live bus time sensor.\"\"\"\n",
    "        self._stop_atcocode = stop_atcocode\n",
    "        self._bus_direction = bus_direction\n",
    "        self._next_buses = []\n",
    "        self._destination_re = re.compile(\n",
    "            '{}'.format(bus_direction), re.IGNORECASE\n",
    "        )\n",
    "\n",
    "        sensor_name = 'Next bus to {}'.format(bus_direction)\n",
    "        stop_url = 'bus/stop/{}/live.json'.format(stop_atcocode)\n",
    "\n",
    "        UkTransportSensor.__init__(\n",
    "            self, sensor_name, api_app_id, api_app_key, stop_url\n",
    "        )\n",
    "\n",
    "    def update(self):\n",
    "        \"\"\"Get the latest live departure data for the specified stop.\"\"\"\n",
    "        params = {'group': 'route', 'nextbuses': 'no'}\n",
    "\n",
    "        self._do_api_request(params)\n",
    "\n",
    "        if self._data != {}:\n",
    "            self._next_buses = []\n",
    "\n",
    "            for (route, departures) in self._data['departures'].items():\n",
    "                for departure in departures:\n",
    "                    if self._destination_re.search(departure['direction']):\n",
    "                        self._next_buses.append({\n",
    "                            'route': route,\n",
    "                            'direction': departure['direction'],\n",
    "                            'scheduled': departure['aimed_departure_time'],\n",
    "                            'estimated': departure['best_departure_estimate']\n",
    "                        })\n",
    "\n",
    "            self._state = min(map(\n",
    "                _delta_mins, [bus['scheduled'] for bus in self._next_buses]\n",
    "            ))\n",
    "\n",
    "    @property\n",
    "    def device_state_attributes(self):\n",
    "        \"\"\"Return other details about the sensor state.\"\"\"\n",
    "        if self._data is not None:\n",
    "            attrs = {ATTR_ATTRIBUTION: ATTRIBUTION}  # {'attribution': 'Data provided by transportapi.com'}\n",
    "            for key in [\n",
    "                    ATTR_ATCOCODE, ATTR_LOCALITY, ATTR_STOP_NAME,\n",
    "                    ATTR_REQUEST_TIME\n",
    "            ]:\n",
    "                attrs[key] = self._data.get(key)           # place these attributes \n",
    "            attrs[ATTR_NEXT_BUSES] = self._next_buses      # not in \n",
    "            print_json(attrs)\n",
    "            return attrs\n",
    "\n",
    "    @property\n",
    "    def unit_of_measurement(self):\n",
    "        \"\"\"Return the unit this state is expressed in.\"\"\"\n",
    "        return \"min\""
   ]
  },
  {
   "cell_type": "code",
   "execution_count": 138,
   "metadata": {
    "collapsed": false
   },
   "outputs": [],
   "source": [
    "CONF_API_APP_ID = api_params['app_id']\n",
    "CONF_API_APP_KEY = api_params['app_key']\n",
    "bus_stop_atcocode =  '340000368SHE'\n",
    "bus_direction =  'Wantage'\n",
    "\n",
    "Bus_sensor = UkTransportLiveBusTimeSensor(CONF_API_APP_ID, CONF_API_APP_KEY, bus_stop_atcocode, bus_direction)\n",
    "Bus_sensor.update()"
   ]
  },
  {
   "cell_type": "code",
   "execution_count": 139,
   "metadata": {
    "collapsed": false
   },
   "outputs": [
    {
     "name": "stdout",
     "output_type": "stream",
     "text": [
      "X32\n",
      "34\n",
      "32A\n"
     ]
    }
   ],
   "source": [
    "for (route, departures) in Bus_sensor._data['departures'].items():\n",
    "    print(route)"
   ]
  },
  {
   "cell_type": "code",
   "execution_count": 140,
   "metadata": {
    "collapsed": false
   },
   "outputs": [],
   "source": [
    "Bus_sensor._data.get('next_buses') "
   ]
  },
  {
   "cell_type": "code",
   "execution_count": 141,
   "metadata": {
    "collapsed": false
   },
   "outputs": [],
   "source": [
    "# As per bus but route becomes origin_name, direction becomes destination_name, next_suses becomes next_trains\n",
    "\n",
    "class UkTransportLiveTrainTimeSensor(UkTransportSensor):\n",
    "    \"\"\"Live train time sensor from UK transportapi.com.\"\"\"\n",
    "    ICON = 'mdi:train'\n",
    "\n",
    "    def __init__(self, api_app_id, api_app_key, station_code, destination_name):\n",
    "        \"\"\"Construct a live bus time sensor.\"\"\"\n",
    "        self._station_code = station_code         # stick to the naming convention of transportAPI\n",
    "        self._destination_name = destination_name\n",
    "        self._next_trains = {}\n",
    "        self._destination_re = re.compile(\n",
    "            '{}'.format(destination_name), re.IGNORECASE\n",
    "        )\n",
    "\n",
    "        sensor_name = 'Next train to {}'.format(destination_name)\n",
    "        query_url =  'train/station/{}/live.json'.format(station_code)\n",
    "        \n",
    "        print(query_url)\n",
    "        # also requires '&darwin=false&destination=WAT&train_status=passenger'\n",
    "\n",
    "        UkTransportSensor.__init__(\n",
    "            self, sensor_name, api_app_id, api_app_key, query_url\n",
    "        )\n",
    "\n",
    "    def update(self):\n",
    "        \"\"\"Get the latest live departure data for the specified stop.\"\"\"\n",
    "        params = {'darwin': 'false', 'destination': self._destination_name, 'train_status': 'passenger'}  \n",
    "\n",
    "        self._do_api_request(params)\n",
    "\n",
    "        if self._data != {}:\n",
    "            self._next_trains = []\n",
    "\n",
    "            for departure in self._data['departures']['all']:      # don't need a regex search as passing in destination to search                \n",
    "                #print_json(departure)   # uncomment to see all fields\n",
    "                self._next_trains.append({\n",
    "                    'origin_name': departure['origin_name'],\n",
    "                    'destination_name': departure['destination_name'],\n",
    "                    'status': departure['status'],\n",
    "                    'scheduled': departure['aimed_departure_time'],                            \n",
    "                    'estimated': departure['expected_departure_time'],\n",
    "                    'platform': departure['platform'],\n",
    "                    'operator_name': departure['operator_name']\n",
    "                    })\n",
    "\n",
    "            self._state = min(map(\n",
    "                _delta_mins, [train['scheduled'] for train in self._next_trains]\n",
    "            ))\n",
    "\n",
    "    @property\n",
    "    def device_state_attributes(self):\n",
    "        \"\"\"Return other details about the sensor state.\"\"\"\n",
    "        if self._data is not None:\n",
    "            attrs = {ATTR_ATTRIBUTION: ATTRIBUTION}  # {'attribution': 'Data provided by transportapi.com'}\n",
    "            for key in [\n",
    "                    ATTR_ATCOCODE, ATTR_LOCALITY, ATTR_STOP_NAME,\n",
    "                    ATTR_REQUEST_TIME\n",
    "            ]:\n",
    "                attrs[key] = self._data.get(key)           # place these attributes \n",
    "            attrs[ATTR_NEXT_BUSES] = self._next_buses      # not in \n",
    "            print_json(attrs)\n",
    "            return attrs\n",
    "\n",
    "    @property\n",
    "    def unit_of_measurement(self):\n",
    "        \"\"\"Return the unit this state is expressed in.\"\"\"\n",
    "        return \"min\" "
   ]
  },
  {
   "cell_type": "code",
   "execution_count": 142,
   "metadata": {
    "collapsed": false
   },
   "outputs": [
    {
     "name": "stdout",
     "output_type": "stream",
     "text": [
      "train/station/WIM/live.json\n"
     ]
    }
   ],
   "source": [
    "station_code = 'WIM'\n",
    "destination_name = 'WAT'\n",
    "\n",
    "Train_sensor_1 = UkTransportLiveTrainTimeSensor(CONF_API_APP_ID, CONF_API_APP_KEY, station_code, destination_name)\n",
    "Train_sensor_1.update()"
   ]
  },
  {
   "cell_type": "code",
   "execution_count": 145,
   "metadata": {
    "collapsed": false
   },
   "outputs": [
    {
     "data": {
      "text/plain": [
       "0"
      ]
     },
     "execution_count": 145,
     "metadata": {},
     "output_type": "execute_result"
    }
   ],
   "source": [
    "Train_sensor_1._state"
   ]
  },
  {
   "cell_type": "code",
   "execution_count": 144,
   "metadata": {
    "collapsed": false
   },
   "outputs": [
    {
     "data": {
      "text/plain": [
       "6"
      ]
     },
     "execution_count": 144,
     "metadata": {},
     "output_type": "execute_result"
    }
   ],
   "source": [
    "len(Train_sensor_1._data)"
   ]
  },
  {
   "cell_type": "code",
   "execution_count": null,
   "metadata": {
    "collapsed": true
   },
   "outputs": [],
   "source": []
  }
 ],
 "metadata": {
  "anaconda-cloud": {},
  "kernelspec": {
   "display_name": "Python [conda root]",
   "language": "python",
   "name": "conda-root-py"
  },
  "language_info": {
   "codemirror_mode": {
    "name": "ipython",
    "version": 3
   },
   "file_extension": ".py",
   "mimetype": "text/x-python",
   "name": "python",
   "nbconvert_exporter": "python",
   "pygments_lexer": "ipython3",
   "version": "3.5.2"
  }
 },
 "nbformat": 4,
 "nbformat_minor": 1
}
