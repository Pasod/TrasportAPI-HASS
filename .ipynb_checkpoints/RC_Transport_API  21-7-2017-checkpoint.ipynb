{
 "cells": [
  {
   "cell_type": "markdown",
   "metadata": {},
   "source": [
    "https://github.com/timcnicholls/transport_api_demo/blob/master/harwell_wantage_bus.py\n",
    "\n",
    "https://github.com/timcnicholls/home-assistant/blob/transport-api/homeassistant/components/sensor/uk_transport.py"
   ]
  },
  {
   "cell_type": "code",
   "execution_count": 1,
   "metadata": {
    "collapsed": true
   },
   "outputs": [],
   "source": [
    "import requests\n",
    "import requests_mock\n",
    "import json\n",
    "import re\n",
    "import pprint\n",
    "import unittest\n",
    "from datetime import datetime, timedelta\n",
    "\n",
    "api_secrets_file = '/Users/robincole/Desktop/transportapi_secrets_dummy.json'\n",
    "\n",
    "transport_api_url_base = \"https://transportapi.com/v3/uk/\"\n",
    "\n",
    "def print_json(json_data):\n",
    "    pprint.PrettyPrinter().pprint(json_data)\n",
    "\n",
    "def load_api_secrets(filename):\n",
    "    try:\n",
    "        with open(filename, 'r') as fp:\n",
    "            api_params = json.load(fp)\n",
    "    except Exception as e:\n",
    "        print('Failed to load API secrets key: {}'.format(e))\n",
    "        api_params = None\n",
    "    return api_params"
   ]
  },
  {
   "cell_type": "code",
   "execution_count": 3,
   "metadata": {
    "collapsed": false
   },
   "outputs": [],
   "source": [
    "api_params = load_api_secrets(api_secrets_file)\n",
    "#CONF_API_APP_ID = api_params['app_id']\n",
    "#CONF_API_APP_KEY = api_params['app_key']"
   ]
  },
  {
   "cell_type": "code",
   "execution_count": 57,
   "metadata": {
    "collapsed": false
   },
   "outputs": [],
   "source": [
    "# Version on 21-7\n",
    "ATTRIBUTION = \"Data provided by transportapi.com\"\n",
    "ATTR_ATCOCODE = 'atcocode'\n",
    "ATTR_LOCALITY = 'locality'\n",
    "ATTR_STOP_NAME = 'stop_name'\n",
    "ATTR_REQUEST_TIME = 'request_time'\n",
    "ATTR_NEXT_BUSES = 'next_buses'\n",
    "ATTR_STATION_CODE = 'station_code'\n",
    "ATTR_CALLING_AT = 'calling_at'\n",
    "ATTR_NEXT_TRAINS = 'next_trains'\n",
    "\n",
    "CONF_API_APP_KEY = 'app_key'\n",
    "CONF_API_APP_ID = 'app_id'\n",
    "CONF_QUERIES = 'queries'\n",
    "CONF_MODE = 'mode'\n",
    "CONF_ORIGIN = 'origin'\n",
    "CONF_DESTINATION = 'destination'\n",
    "\n",
    "class UkTransportSensor():  #Entity\n",
    "    \"\"\"\n",
    "    Sensor that reads the UK transport web API.\n",
    "\n",
    "    transportapi.com provides comprehensive transport data for UK train, tube\n",
    "    and bus travel across the UK via simple JSON API. Subclasses of this\n",
    "    base class can be used to access specific types of information.\n",
    "    \"\"\"\n",
    "\n",
    "    TRANSPORT_API_URL_BASE = \"https://transportapi.com/v3/uk/\"\n",
    "\n",
    "    def __init__(self, name, api_app_id, api_app_key, url):\n",
    "        \"\"\"Initialize the sensor.\"\"\"\n",
    "        self._data = {}\n",
    "        self._api_app_id = api_app_id\n",
    "        self._api_app_key = api_app_key\n",
    "        self._url = self.TRANSPORT_API_URL_BASE + url\n",
    "        self._name = name\n",
    "        self._state = None\n",
    "\n",
    "    @property\n",
    "    def name(self):\n",
    "        \"\"\"Return the name of the sensor.\"\"\"\n",
    "        return self._name\n",
    "\n",
    "    @property\n",
    "    def state(self):\n",
    "        \"\"\"Return the state of the sensor.\"\"\"\n",
    "        return self._state\n",
    "\n",
    "    @property\n",
    "    def unit_of_measurement(self):\n",
    "        \"\"\"Return the unit this state is expressed in.\"\"\"\n",
    "        return \"min\"\n",
    "\n",
    "    @property\n",
    "    def icon(self):\n",
    "        \"\"\"Icon to use in the frontend, if any.\"\"\"\n",
    "        return self.ICON\n",
    "\n",
    "    def _do_api_request(self, params):\n",
    "        \"\"\"Perform an API request.\"\"\"\n",
    "        request_params = dict({\n",
    "            'app_id': self._api_app_id,\n",
    "            'app_key': self._api_app_key,\n",
    "        }, **params)\n",
    "\n",
    "        response = requests.get(self._url, params=request_params)\n",
    "        if response.status_code != 200:\n",
    "            _LOGGER.warning('Invalid response from API')\n",
    "        elif 'error' in response.json():\n",
    "            if 'exceeded' in response.json()['error']:\n",
    "                self._state = 'Useage limites exceeded'\n",
    "            if 'invalid' in response.json()['error']:\n",
    "                self._state = 'Credentials invalid'\n",
    "        else:\n",
    "            self._data = response.json()\n",
    "\n",
    "\n",
    "class UkTransportLiveBusTimeSensor(UkTransportSensor):\n",
    "    \"\"\"Live bus time sensor from UK transportapi.com.\"\"\"\n",
    "\n",
    "    ICON = 'mdi:bus'\n",
    "\n",
    "    def __init__(self, api_app_id, api_app_key,\n",
    "                 stop_atcocode, bus_direction, interval):\n",
    "        \"\"\"Construct a live bus time sensor.\"\"\"\n",
    "        self._stop_atcocode = stop_atcocode\n",
    "        self._bus_direction = bus_direction\n",
    "        self._next_buses = []\n",
    "        self._destination_re = re.compile(\n",
    "            '{}'.format(bus_direction), re.IGNORECASE\n",
    "        )\n",
    "\n",
    "        sensor_name = 'Next bus to {}'.format(bus_direction)\n",
    "        stop_url = 'bus/stop/{}/live.json'.format(stop_atcocode)\n",
    "\n",
    "        UkTransportSensor.__init__(\n",
    "            self, sensor_name, api_app_id, api_app_key, stop_url\n",
    "        )\n",
    "        #self.update = Throttle(interval)(self._update)\n",
    "        self.update = self._update\n",
    "\n",
    "    def _update(self):\n",
    "        \"\"\"Get the latest live departure data for the specified stop.\"\"\"\n",
    "        params = {'group': 'route', 'nextbuses': 'no'}\n",
    "\n",
    "        self._do_api_request(params)\n",
    "\n",
    "        if self._data != {}:\n",
    "            self._next_buses = []\n",
    "\n",
    "            for (route, departures) in self._data['departures'].items():\n",
    "                for departure in departures:\n",
    "                    if self._destination_re.search(departure['direction']):\n",
    "                        self._next_buses.append({\n",
    "                            'route': route,\n",
    "                            'direction': departure['direction'],\n",
    "                            'scheduled': departure['aimed_departure_time'],\n",
    "                            'estimated': departure['best_departure_estimate']\n",
    "                        })\n",
    "\n",
    "            self._state = min(map(\n",
    "                _delta_mins, [bus['scheduled'] for bus in self._next_buses]\n",
    "            ))\n",
    "\n",
    "    @property\n",
    "    def device_state_attributes(self):\n",
    "        \"\"\"Return other details about the sensor state.\"\"\"\n",
    "        if self._data is not None:\n",
    "            attrs = {}\n",
    "            for key in [\n",
    "                    ATTR_ATCOCODE, ATTR_LOCALITY, ATTR_STOP_NAME,\n",
    "                    ATTR_REQUEST_TIME\n",
    "            ]:\n",
    "                attrs[key] = self._data.get(key)\n",
    "            attrs[ATTR_NEXT_BUSES] = self._next_buses\n",
    "            return attrs\n",
    "\n",
    "\n",
    "class UkTransportLiveTrainTimeSensor(UkTransportSensor):\n",
    "    \"\"\"Live train time sensor from UK transportapi.com.\"\"\"\n",
    "\n",
    "    ICON = 'mdi:train'\n",
    "\n",
    "    def __init__(self, api_app_id, api_app_key,\n",
    "                 station_code, calling_at, interval):\n",
    "        \"\"\"Construct a live bus time sensor.\"\"\"\n",
    "        self._station_code = station_code\n",
    "        self._calling_at = calling_at\n",
    "\n",
    "        sensor_name = 'Next train to {}'.format(calling_at)\n",
    "        query_url = 'train/station/{}/live.json'.format(station_code)\n",
    "\n",
    "        UkTransportSensor.__init__(\n",
    "            self, sensor_name, api_app_id, api_app_key, query_url\n",
    "        )\n",
    "        #self.update = Throttle(interval)(self._update)\n",
    "        self.update = self._update\n",
    "\n",
    "    def _update(self):\n",
    "        \"\"\"Get the latest live departure data for the specified stop.\"\"\"\n",
    "        params = {'darwin': 'false',\n",
    "                  'calling_at': self._calling_at,\n",
    "                  'train_status': 'passenger'}\n",
    "\n",
    "        self._do_api_request(params)\n",
    "        self._next_trains = []\n",
    "\n",
    "        if self._data != {}:\n",
    "            if self._data['departures']['all'] == []:\n",
    "                self._state = 'No departures'\n",
    "            else:\n",
    "                for departure in self._data['departures']['all']:\n",
    "                    self._next_trains.append({\n",
    "                        'origin_name': departure['origin_name'],\n",
    "                        'destination_name': departure['destination_name'],\n",
    "                        'status': departure['status'],\n",
    "                        'scheduled': departure['aimed_departure_time'],\n",
    "                        'estimated': departure['expected_departure_time'],\n",
    "                        'platform': departure['platform'],\n",
    "                        'operator_name': departure['operator_name']\n",
    "                        })\n",
    "\n",
    "                self._state = min(map(\n",
    "                    _delta_mins,\n",
    "                    [train['scheduled'] for train in self._next_trains]\n",
    "                ))\n",
    "\n",
    "    @property\n",
    "    def device_state_attributes(self):\n",
    "        \"\"\"Return other details about the sensor state.\"\"\"\n",
    "        attrs = {}\n",
    "        if self._data is not None:\n",
    "            attrs[ATTR_STATION_CODE] = self._station_code\n",
    "            attrs[ATTR_CALLING_AT] = self._calling_at\n",
    "            if self._next_trains:\n",
    "                attrs[ATTR_NEXT_TRAINS] = self._next_trains\n",
    "            return attrs\n",
    "\n",
    "\n",
    "def _delta_mins(hhmm_time_str):\n",
    "    \"\"\"Calculate time delta in minutes to a time in hh:mm format.\"\"\"\n",
    "    now = datetime.now()\n",
    "    hhmm_time = datetime.strptime(hhmm_time_str, '%H:%M')\n",
    "\n",
    "    hhmm_datetime = datetime(\n",
    "        now.year, now.month, now.day,\n",
    "        hour=hhmm_time.hour, minute=hhmm_time.minute\n",
    "    )\n",
    "    if hhmm_datetime < now:\n",
    "        hhmm_datetime += timedelta(days=1)\n",
    "\n",
    "    delta_mins = (hhmm_datetime - now).seconds // 60\n",
    "    return delta_mins\n"
   ]
  },
  {
   "cell_type": "code",
   "execution_count": 58,
   "metadata": {
    "collapsed": true
   },
   "outputs": [],
   "source": [
    "# modify from test\n",
    "\n",
    "VALID_CONFIG = {\n",
    "    'platform': 'uk_transport',\n",
    "    CONF_API_APP_ID: api_params['app_id'],\n",
    "    CONF_API_APP_KEY: api_params['app_key'],\n",
    "    'queries': [{\n",
    "      'mode': 'bus',\n",
    "      'origin': '340000368SHE',\n",
    "      'destination': 'Wantage'},\n",
    "      {\n",
    "      'mode': 'train',\n",
    "      'origin': 'WIM',\n",
    "      'destination': 'WAT'}]\n",
    "      }"
   ]
  },
  {
   "cell_type": "code",
   "execution_count": 59,
   "metadata": {
    "collapsed": true
   },
   "outputs": [],
   "source": [
    "def setup_platform():  # hass, config, add_devices, discovery_info=None\n",
    "    \"\"\"Get the uk_transport sensor.\"\"\"\n",
    "    sensors = []\n",
    "    number_sensors = len(VALID_CONFIG['queries'])\n",
    "    interval = timedelta(seconds=87*number_sensors)\n",
    "\n",
    "    for query in VALID_CONFIG['queries']:\n",
    "        if 'bus' in query['mode']:\n",
    "            stop_atcocode = query['origin']\n",
    "            bus_direction = query['destination']\n",
    "            sensors.append(\n",
    "                UkTransportLiveBusTimeSensor(\n",
    "                    VALID_CONFIG[CONF_API_APP_ID],\n",
    "                    VALID_CONFIG[CONF_API_APP_KEY],\n",
    "                    stop_atcocode,\n",
    "                    bus_direction,\n",
    "                    interval))\n",
    "\n",
    "        elif 'train' in query['mode']:\n",
    "            station_code = query['origin']\n",
    "            calling_at = query['destination']\n",
    "            sensors.append(\n",
    "                UkTransportLiveTrainTimeSensor(\n",
    "                    VALID_CONFIG[CONF_API_APP_ID],\n",
    "                    VALID_CONFIG[CONF_API_APP_KEY],\n",
    "                    station_code,\n",
    "                    calling_at,\n",
    "                    interval))\n",
    "    return sensors"
   ]
  },
  {
   "cell_type": "code",
   "execution_count": 60,
   "metadata": {
    "collapsed": false
   },
   "outputs": [],
   "source": [
    "sensors = setup_platform()\n",
    "\n",
    "Bus_sensor = sensors[0]\n",
    "Bus_sensor.update()\n",
    "\n",
    "Train_sensor_1 = sensors[1]\n",
    "Train_sensor_1.update()"
   ]
  },
  {
   "cell_type": "code",
   "execution_count": 64,
   "metadata": {
    "collapsed": false
   },
   "outputs": [
    {
     "data": {
      "text/plain": [
       "{'atcocode': '340000368SHE',\n",
       " 'locality': 'Harwell Campus',\n",
       " 'next_buses': [{'direction': 'Market Place (Wantage)',\n",
       "   'estimated': '20:16',\n",
       "   'route': 'X32',\n",
       "   'scheduled': '20:16'}],\n",
       " 'request_time': '2017-07-21T19:55:03+01:00',\n",
       " 'stop_name': 'Bus Station'}"
      ]
     },
     "execution_count": 64,
     "metadata": {},
     "output_type": "execute_result"
    }
   ],
   "source": [
    "Bus_sensor.device_state_attributes"
   ]
  },
  {
   "cell_type": "code",
   "execution_count": 62,
   "metadata": {
    "collapsed": false
   },
   "outputs": [
    {
     "name": "stderr",
     "output_type": "stream",
     "text": [
      "test_train_class (__main__.TestSensor) ... /Users/robincole/anaconda3/lib/python3.5/site-packages/ipykernel/__main__.py:14: ResourceWarning: unclosed file <_io.TextIOWrapper name='HASS files/uk_transport_train.json' mode='r' encoding='UTF-8'>\n",
      "ok\n",
      "\n",
      "----------------------------------------------------------------------\n",
      "Ran 1 test in 0.019s\n",
      "\n",
      "OK\n"
     ]
    },
    {
     "data": {
      "text/plain": [
       "<unittest.main.TestProgram at 0x10a800ac8>"
      ]
     },
     "execution_count": 62,
     "metadata": {},
     "output_type": "execute_result"
    }
   ],
   "source": [
    "# Train \n",
    "station_code = VALID_CONFIG['queries'][1]['origin']\n",
    "destination_name = VALID_CONFIG['queries'][1]['destination']\n",
    "APP_ID = VALID_CONFIG[CONF_API_APP_ID]\n",
    "APP_KEY = VALID_CONFIG[CONF_API_APP_KEY]\n",
    "\n",
    "class TestSensor(unittest.TestCase):\n",
    "    \n",
    "    def test_train_class(self): \n",
    "    \n",
    "        with requests_mock.mock() as m:\n",
    "            #url = 'https://transportapi.com/v3/uk/train/station/WIM/live.json?app_id={}&app_key={}&darwin=false&destination=WAT&train_status=passenger'.format(APP_ID, APP_KEY)\n",
    "            url = 'https://transportapi.com/v3/uk/train/station/WIM/live.json?*'\n",
    "            m.get(url, text=open('HASS files/uk_transport_train.json').read())\n",
    "            Train_sensor_1 = UkTransportLiveTrainTimeSensor(APP_ID, APP_KEY, station_code, destination_name, interval = None)\n",
    "            Train_sensor_1.update()\n",
    "\n",
    "            assert type(Train_sensor_1.state) == int\n",
    "            assert Train_sensor_1.name == 'Next train to WAT'\n",
    "            assert Train_sensor_1.icon == 'mdi:train'\n",
    "            assert Train_sensor_1.unit_of_measurement == 'min'\n",
    "            \n",
    "            attrs = Train_sensor_1.device_state_attributes\n",
    "            assert len(attrs['next_trains']) == 25\n",
    "            assert attrs['next_trains'][0]['destination_name'] == 'London Waterloo'\n",
    "            assert attrs['next_trains'][0]['estimated'] == '06:13'\n",
    "            \n",
    "        \n",
    "        \n",
    "unittest.main(argv=['ignored', '-v'], exit=False)"
   ]
  },
  {
   "cell_type": "code",
   "execution_count": 68,
   "metadata": {
    "collapsed": false
   },
   "outputs": [
    {
     "name": "stderr",
     "output_type": "stream",
     "text": [
      "test_bus_class (__main__.TestSensor) ... "
     ]
    },
    {
     "name": "stdout",
     "output_type": "stream",
     "text": [
      "Market Place (Wantage) None\n",
      "Market Place (Wantage) None\n"
     ]
    },
    {
     "name": "stderr",
     "output_type": "stream",
     "text": [
      "/Users/robincole/anaconda3/lib/python3.5/site-packages/ipykernel/__main__.py:14: ResourceWarning: unclosed file <_io.TextIOWrapper name='HASS files/uk_transport_bus.json' mode='r' encoding='UTF-8'>\n",
      "ok\n",
      "\n",
      "----------------------------------------------------------------------\n",
      "Ran 1 test in 0.016s\n",
      "\n",
      "OK\n"
     ]
    },
    {
     "data": {
      "text/plain": [
       "<unittest.main.TestProgram at 0x10a86cfd0>"
      ]
     },
     "execution_count": 68,
     "metadata": {},
     "output_type": "execute_result"
    }
   ],
   "source": [
    "# Bus\n",
    "BUS_ATCOCODE = VALID_CONFIG['queries'][0]['origin']\n",
    "BUS_DIRECTION = VALID_CONFIG['queries'][0]['destination']\n",
    "\n",
    "\n",
    "class TestSensor(unittest.TestCase):\n",
    "    \n",
    "    def test_bus_class(self):\n",
    "\n",
    "        with requests_mock.mock() as m:\n",
    "            \"\"\"Test for operational uk_transport sensor with proper attributes.\"\"\"        \n",
    "            url = 'https://transportapi.com/v3/uk/bus/stop/340000368SHE/live.json?group=route&app_id=221cce2f&nextbuses=no&app_key=d209929236fc97196775650c2bdb639e'\n",
    "          \n",
    "            m.get(url, text=open('HASS files/uk_transport_bus.json').read())\n",
    "            bus_state = UkTransportLiveBusTimeSensor(APP_ID, APP_KEY, BUS_ATCOCODE, BUS_DIRECTION, interval = None)\n",
    "            bus_state.update()\n",
    "\n",
    "            #assert type(bus_state.state) == str\n",
    "            assert bus_state.name == 'Next bus to {}'.format(BUS_DIRECTION)\n",
    "            \n",
    "            attrs = bus_state.device_state_attributes\n",
    "            assert attrs[ATTR_ATCOCODE] == BUS_ATCOCODE\n",
    "            assert attrs[ATTR_LOCALITY] == 'Harwell Campus'\n",
    "            assert attrs[ATTR_STOP_NAME] == 'Bus Station'\n",
    "            assert len(attrs[ATTR_NEXT_BUSES]) == 2\n",
    "\n",
    "            direction_re = re.compile(BUS_DIRECTION)\n",
    "            for bus in attrs[ATTR_NEXT_BUSES]:\n",
    "                print(bus['direction'], direction_re.match(bus['direction']))\n",
    "                assert direction_re.search(bus['direction']) is not None\n",
    "\n",
    "unittest.main(argv=['ignored', '-v'], exit=False)"
   ]
  },
  {
   "cell_type": "code",
   "execution_count": null,
   "metadata": {
    "collapsed": true
   },
   "outputs": [],
   "source": []
  }
 ],
 "metadata": {
  "anaconda-cloud": {},
  "kernelspec": {
   "display_name": "Python [conda root]",
   "language": "python",
   "name": "conda-root-py"
  },
  "language_info": {
   "codemirror_mode": {
    "name": "ipython",
    "version": 3
   },
   "file_extension": ".py",
   "mimetype": "text/x-python",
   "name": "python",
   "nbconvert_exporter": "python",
   "pygments_lexer": "ipython3",
   "version": "3.5.3"
  }
 },
 "nbformat": 4,
 "nbformat_minor": 1
}
