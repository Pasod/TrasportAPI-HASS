{
 "cells": [
  {
   "cell_type": "markdown",
   "metadata": {},
   "source": [
    "https://github.com/timcnicholls/transport_api_demo/blob/master/harwell_wantage_bus.py\n",
    "\n",
    "https://github.com/timcnicholls/home-assistant/blob/transport-api/homeassistant/components/sensor/uk_transport.py"
   ]
  },
  {
   "cell_type": "code",
   "execution_count": 212,
   "metadata": {
    "collapsed": true
   },
   "outputs": [],
   "source": [
    "import requests\n",
    "import requests_mock\n",
    "import json\n",
    "import re\n",
    "import pprint\n",
    "import unittest\n",
    "from datetime import datetime, timedelta\n",
    "\n",
    "api_secrets_file = '/Users/robincole/Desktop/transportapi_secrets_dummy.json'\n",
    "\n",
    "transport_api_url_base = \"https://transportapi.com/v3/uk/\"\n",
    "\n",
    "def print_json(json_data):\n",
    "    pprint.PrettyPrinter().pprint(json_data)\n",
    "\n",
    "def load_api_secrets(filename):\n",
    "    try:\n",
    "        with open(filename, 'r') as fp:\n",
    "            api_params = json.load(fp)\n",
    "    except Exception as e:\n",
    "        print('Failed to load API secrets key: {}'.format(e))\n",
    "        api_params = None\n",
    "    return api_params\n",
    "\n",
    "def _delta_mins(hhmm_time_str):\n",
    "    \"\"\"Calculate time delta in minutes to a time in hh:mm format.\"\"\"\n",
    "    now = datetime.now()\n",
    "    hhmm_time = datetime.strptime(hhmm_time_str, '%H:%M')\n",
    "\n",
    "    hhmm_datetime = datetime(\n",
    "        now.year, now.month, now.day,\n",
    "        hour=hhmm_time.hour, minute=hhmm_time.minute\n",
    "    )\n",
    "    if hhmm_datetime < now:\n",
    "        hhmm_datetime += timedelta(days=1)\n",
    "\n",
    "    delta_mins = (hhmm_datetime - now).seconds // 60\n",
    "    return delta_mins"
   ]
  },
  {
   "cell_type": "code",
   "execution_count": 213,
   "metadata": {
    "collapsed": false
   },
   "outputs": [],
   "source": [
    "api_params = load_api_secrets(api_secrets_file)\n",
    "CONF_API_APP_ID = api_params['app_id']\n",
    "CONF_API_APP_KEY = api_params['app_key']"
   ]
  },
  {
   "cell_type": "code",
   "execution_count": 214,
   "metadata": {
    "collapsed": false
   },
   "outputs": [],
   "source": [
    "# Tims code\n",
    "ATTR_STOP_NAME = 'stop_name'\n",
    "ATTR_REQUEST_TIME = 'request_time'\n",
    "ATTRIBUTION = \"Data provided by transportapi.com\"\n",
    "ATTR_ATTRIBUTION = 'attribution'  # from const module\n",
    "\n",
    "class UkTransportSensor():  # Entity\n",
    "    \"\"\"\n",
    "    Sensor that reads the UK transport web API.\n",
    "    transportapi.com provides comprehensive transport data for UK train, tube\n",
    "    and bus travel across the UK via simple JSON API. Subclasses of this\n",
    "    base class can be used to access specific types of information.\n",
    "    \"\"\"\n",
    "\n",
    "    TRANSPORT_API_URL_BASE = \"https://transportapi.com/v3/uk/\"\n",
    "    ICON = 'mdi:train'\n",
    "\n",
    "    def __init__(self, name, api_app_id, api_app_key, url):\n",
    "        \"\"\"Initialize the sensor.\"\"\"\n",
    "        self._data = {}    # dict to place all the json data in\n",
    "        self._api_app_id = api_app_id\n",
    "        self._api_app_key = api_app_key\n",
    "        self._url = self.TRANSPORT_API_URL_BASE + url\n",
    "        self._name = name\n",
    "        self._state = None\n",
    "\n",
    "    @property\n",
    "    def name(self):\n",
    "        \"\"\"Return the name of the sensor.\"\"\"\n",
    "        return self._name\n",
    "\n",
    "    @property\n",
    "    def state(self):\n",
    "        \"\"\"Return the state of the sensor.\"\"\"\n",
    "        return self._state\n",
    "\n",
    "    @property\n",
    "    def icon(self):\n",
    "        \"\"\"Icon to use in the frontend, if any.\"\"\"\n",
    "        return self.ICON\n",
    "\n",
    "    def _do_api_request(self, params):\n",
    "        \"\"\"Perform an API request.\"\"\"\n",
    "        request_params = dict({\n",
    "            'app_id': self._api_app_id,\n",
    "            'app_key': self._api_app_key,\n",
    "        }, **params)\n",
    "        \n",
    "        response = requests.get(self._url, params=request_params)\n",
    "        \n",
    "        if response.status_code != 200:\n",
    "            _LOGGER.warning('Invalid response from API') \n",
    "        \n",
    "        if 'error' in response.json().keys():\n",
    "            if 'exceeded' in response.json()['error']:\n",
    "                print('shit')\n",
    "                self._state = 'Useage limites exceeded'\n",
    "            if 'invalid' in response.json()['error']:\n",
    "                self._state = 'Credentials invalid'\n",
    "        else:\n",
    "            self._data = response.json()"
   ]
  },
  {
   "cell_type": "code",
   "execution_count": 215,
   "metadata": {
    "collapsed": false
   },
   "outputs": [],
   "source": [
    "ATTR_NEXT_BUSES = 'next_buses'\n",
    "ATTR_ATCOCODE = 'atcocode'\n",
    "ATTR_LOCALITY = 'locality'\n",
    "\n",
    "class UkTransportLiveBusTimeSensor(UkTransportSensor):\n",
    "    \"\"\"Live bus time sensor from UK transportapi.com.\"\"\"\n",
    "    ICON = 'mdi:bus'\n",
    "\n",
    "    def __init__(self, api_app_id, api_app_key, stop_atcocode, bus_direction):\n",
    "        \"\"\"Construct a live bus time sensor.\"\"\"\n",
    "        self._stop_atcocode = stop_atcocode\n",
    "        self._bus_direction = bus_direction\n",
    "        self._next_buses = []\n",
    "        self._destination_re = re.compile(\n",
    "            '{}'.format(bus_direction), re.IGNORECASE\n",
    "        )\n",
    "\n",
    "        sensor_name = 'Next bus to {}'.format(bus_direction)\n",
    "        stop_url = 'bus/stop/{}/live.json'.format(stop_atcocode)\n",
    "\n",
    "        UkTransportSensor.__init__(\n",
    "            self, sensor_name, api_app_id, api_app_key, stop_url\n",
    "        )\n",
    "\n",
    "    def update(self):\n",
    "        \"\"\"Get the latest live departure data for the specified stop.\"\"\"\n",
    "        params = {'group': 'route', 'nextbuses': 'no'}\n",
    "\n",
    "        self._do_api_request(params)\n",
    "\n",
    "        if self._data != {}:\n",
    "            self._next_buses = []\n",
    "\n",
    "            for (route, departures) in self._data['departures'].items():\n",
    "                for departure in departures:\n",
    "                    if self._destination_re.search(departure['direction']):\n",
    "                        self._next_buses.append({\n",
    "                            'route': route,\n",
    "                            'direction': departure['direction'],\n",
    "                            'scheduled': departure['aimed_departure_time'],\n",
    "                            'estimated': departure['best_departure_estimate']\n",
    "                        })\n",
    "\n",
    "            self._state = min(map(\n",
    "                _delta_mins, [bus['scheduled'] for bus in self._next_buses]    # get the next scheduled bus mins until\n",
    "            ))\n",
    "\n",
    "    @property\n",
    "    def device_state_attributes(self):\n",
    "        \"\"\"Return other details about the sensor state.\"\"\"\n",
    "        if self._data is not None:\n",
    "            attrs = {ATTR_ATTRIBUTION: ATTRIBUTION}  # {'attribution': 'Data provided by transportapi.com'}\n",
    "            for key in [\n",
    "                    ATTR_ATCOCODE, ATTR_LOCALITY, ATTR_STOP_NAME,\n",
    "                    ATTR_REQUEST_TIME\n",
    "            ]:\n",
    "                attrs[key] = self._data.get(key)           # place these attributes \n",
    "            attrs[ATTR_NEXT_BUSES] = self._next_buses      # not in \n",
    "            print_json(attrs)\n",
    "            return attrs\n",
    "\n",
    "    @property\n",
    "    def unit_of_measurement(self):\n",
    "        \"\"\"Return the unit this state is expressed in.\"\"\"\n",
    "        return \"min\""
   ]
  },
  {
   "cell_type": "code",
   "execution_count": 216,
   "metadata": {
    "collapsed": false
   },
   "outputs": [],
   "source": [
    "bus_stop_atcocode =  '340000368SHE'\n",
    "bus_direction =  'Parkway Station'         # always work. Class throws exception if no next bus\n",
    "\n",
    "Bus_sensor = UkTransportLiveBusTimeSensor(CONF_API_APP_ID, CONF_API_APP_KEY, bus_stop_atcocode, bus_direction)\n",
    "Bus_sensor.update()"
   ]
  },
  {
   "cell_type": "code",
   "execution_count": 217,
   "metadata": {
    "collapsed": false
   },
   "outputs": [
    {
     "data": {
      "text/plain": [
       "1"
      ]
     },
     "execution_count": 217,
     "metadata": {},
     "output_type": "execute_result"
    }
   ],
   "source": [
    "Bus_sensor.state"
   ]
  },
  {
   "cell_type": "code",
   "execution_count": 218,
   "metadata": {
    "collapsed": false
   },
   "outputs": [],
   "source": [
    "# As per bus but route becomes origin_name, direction becomes destination_name, next_suses becomes next_trains\n",
    "ATTR_NEXT_TRAINS = 'next_trains'\n",
    "ATTR_STATION_CODE = 'station_code'\n",
    "ATTR_DESTINATION_NAME = 'destination_name'\n",
    "\n",
    "\n",
    "class UkTransportLiveTrainTimeSensor(UkTransportSensor):\n",
    "    \"\"\"Live train time sensor from UK transportapi.com.\"\"\"\n",
    "    ICON = 'mdi:train'\n",
    "\n",
    "    def __init__(self, api_app_id, api_app_key, station_code, destination_name):\n",
    "        \"\"\"Construct a live bus time sensor.\"\"\"\n",
    "        self._station_code = station_code         # stick to the naming convention of transportAPI\n",
    "        self._destination_name = destination_name\n",
    "        self._next_trains = {}\n",
    "\n",
    "        sensor_name = 'Next train to {}'.format(destination_name)\n",
    "        query_url =  'train/station/{}/live.json'.format(station_code)\n",
    "        \n",
    "        print(query_url)\n",
    "        # also requires '&darwin=false&destination=WAT&train_status=passenger'\n",
    "\n",
    "        UkTransportSensor.__init__(\n",
    "            self, sensor_name, api_app_id, api_app_key, query_url\n",
    "        )\n",
    "\n",
    "    def update(self):\n",
    "        \"\"\"Get the latest live departure data for the specified stop.\"\"\"\n",
    "        params = {'darwin': 'false', 'destination': self._destination_name, 'train_status': 'passenger'}  \n",
    "\n",
    "        self._do_api_request(params)\n",
    "\n",
    "        if self._data != {}:\n",
    "            self._next_trains = []\n",
    "\n",
    "            for departure in self._data['departures']['all']:      # don't need a regex search as passing in destination to search                \n",
    "                #print_json(departure)   # uncomment to see all fields\n",
    "                self._next_trains.append({\n",
    "                    'origin_name': departure['origin_name'],\n",
    "                    'destination_name': departure['destination_name'],\n",
    "                    'status': departure['status'],\n",
    "                    'scheduled': departure['aimed_departure_time'],                            \n",
    "                    'estimated': departure['expected_departure_time'],\n",
    "                    'platform': departure['platform'],\n",
    "                    'operator_name': departure['operator_name']\n",
    "                    })\n",
    "\n",
    "            self._state = min(map(\n",
    "                _delta_mins, [train['scheduled'] for train in self._next_trains]\n",
    "            ))\n",
    "\n",
    "    @property\n",
    "    def device_state_attributes(self):\n",
    "        \"\"\"Return other details about the sensor state.\"\"\"\n",
    "        if self._data is not None:\n",
    "            attrs = {ATTR_ATTRIBUTION: ATTRIBUTION}  # {'attribution': 'Data provided by transportapi.com'}\n",
    "            for key in [\n",
    "                    ATTR_STATION_CODE, \n",
    "                    ATTR_DESTINATION_NAME\n",
    "            ]:\n",
    "                attrs[key] = self._data.get(key)           # place these attributes \n",
    "            attrs[ATTR_NEXT_TRAINS] = self._next_trains\n",
    "            print_json(attrs)\n",
    "            return attrs\n",
    "\n",
    "    @property\n",
    "    def unit_of_measurement(self):\n",
    "        \"\"\"Return the unit this state is expressed in.\"\"\"\n",
    "        return \"min\" "
   ]
  },
  {
   "cell_type": "code",
   "execution_count": 219,
   "metadata": {
    "collapsed": false
   },
   "outputs": [
    {
     "name": "stdout",
     "output_type": "stream",
     "text": [
      "train/station/WIM/live.json\n"
     ]
    }
   ],
   "source": [
    "station_code = 'WIM'\n",
    "destination_name = 'WAT'\n",
    "\n",
    "Train_sensor_1 = UkTransportLiveTrainTimeSensor(CONF_API_APP_ID, CONF_API_APP_KEY, station_code, destination_name)\n",
    "Train_sensor_1.update()"
   ]
  },
  {
   "cell_type": "code",
   "execution_count": 220,
   "metadata": {
    "collapsed": false
   },
   "outputs": [
    {
     "data": {
      "text/plain": [
       "1"
      ]
     },
     "execution_count": 220,
     "metadata": {},
     "output_type": "execute_result"
    }
   ],
   "source": [
    "Train_sensor_1._state         # mins until next train"
   ]
  },
  {
   "cell_type": "code",
   "execution_count": 221,
   "metadata": {
    "collapsed": false
   },
   "outputs": [
    {
     "data": {
      "text/plain": [
       "{'destination_name': 'London Waterloo',\n",
       " 'estimated': '06:35',\n",
       " 'operator_name': 'South West Trains',\n",
       " 'origin_name': 'Woking',\n",
       " 'platform': '5',\n",
       " 'scheduled': '06:35',\n",
       " 'status': 'ON TIME'}"
      ]
     },
     "execution_count": 221,
     "metadata": {},
     "output_type": "execute_result"
    }
   ],
   "source": [
    "Train_sensor_1._next_trains[0]"
   ]
  },
  {
   "cell_type": "code",
   "execution_count": 238,
   "metadata": {
    "collapsed": false
   },
   "outputs": [
    {
     "name": "stderr",
     "output_type": "stream",
     "text": [
      "test_train_class (__main__.TestLondonTubeSensor) ... "
     ]
    },
    {
     "name": "stdout",
     "output_type": "stream",
     "text": [
      "train/station/WIM/live.json\n",
      "{'attribution': 'Data provided by transportapi.com',\n",
      " 'destination_name': None,\n",
      " 'next_trains': [{'destination_name': 'London Waterloo',\n",
      "                  'estimated': '06:13',\n",
      "                  'operator_name': 'South West Trains',\n",
      "                  'origin_name': 'Wimbledon',\n",
      "                  'platform': '8',\n",
      "                  'scheduled': '06:13',\n",
      "                  'status': 'STARTS HERE'},\n",
      "                 {'destination_name': 'London Waterloo',\n",
      "                  'estimated': '06:14',\n",
      "                  'operator_name': 'South West Trains',\n",
      "                  'origin_name': 'Hampton Court',\n",
      "                  'platform': '5',\n",
      "                  'scheduled': '06:14',\n",
      "                  'status': 'EARLY'},\n",
      "                 {'destination_name': 'London Waterloo',\n",
      "                  'estimated': '06:20',\n",
      "                  'operator_name': 'South West Trains',\n",
      "                  'origin_name': 'Guildford',\n",
      "                  'platform': '5',\n",
      "                  'scheduled': '06:20',\n",
      "                  'status': 'ON TIME'},\n",
      "                 {'destination_name': 'London Waterloo',\n",
      "                  'estimated': '06:23',\n",
      "                  'operator_name': 'South West Trains',\n",
      "                  'origin_name': 'Dorking',\n",
      "                  'platform': '5',\n",
      "                  'scheduled': '06:23',\n",
      "                  'status': 'ON TIME'},\n",
      "                 {'destination_name': 'London Waterloo',\n",
      "                  'estimated': '06:32',\n",
      "                  'operator_name': 'South West Trains',\n",
      "                  'origin_name': 'London Waterloo',\n",
      "                  'platform': '5',\n",
      "                  'scheduled': '06:32',\n",
      "                  'status': 'ON TIME'},\n",
      "                 {'destination_name': 'London Waterloo',\n",
      "                  'estimated': '06:35',\n",
      "                  'operator_name': 'South West Trains',\n",
      "                  'origin_name': 'Woking',\n",
      "                  'platform': '5',\n",
      "                  'scheduled': '06:35',\n",
      "                  'status': 'ON TIME'},\n",
      "                 {'destination_name': 'London Waterloo',\n",
      "                  'estimated': '06:38',\n",
      "                  'operator_name': 'South West Trains',\n",
      "                  'origin_name': 'Epsom',\n",
      "                  'platform': '5',\n",
      "                  'scheduled': '06:38',\n",
      "                  'status': 'ON TIME'},\n",
      "                 {'destination_name': 'London Waterloo',\n",
      "                  'estimated': '06:43',\n",
      "                  'operator_name': 'South West Trains',\n",
      "                  'origin_name': 'London Waterloo',\n",
      "                  'platform': '8',\n",
      "                  'scheduled': '06:43',\n",
      "                  'status': 'ON TIME'},\n",
      "                 {'destination_name': 'London Waterloo',\n",
      "                  'estimated': '06:44',\n",
      "                  'operator_name': 'South West Trains',\n",
      "                  'origin_name': 'Hampton Court',\n",
      "                  'platform': '5',\n",
      "                  'scheduled': '06:44',\n",
      "                  'status': 'ON TIME'},\n",
      "                 {'destination_name': 'London Waterloo',\n",
      "                  'estimated': '06:47',\n",
      "                  'operator_name': 'South West Trains',\n",
      "                  'origin_name': 'Shepperton',\n",
      "                  'platform': '5',\n",
      "                  'scheduled': '06:47',\n",
      "                  'status': 'ON TIME'},\n",
      "                 {'destination_name': 'London Waterloo',\n",
      "                  'estimated': '06:48',\n",
      "                  'operator_name': 'South West Trains',\n",
      "                  'origin_name': 'Basingstoke',\n",
      "                  'platform': '6',\n",
      "                  'scheduled': '06:47',\n",
      "                  'status': 'LATE'},\n",
      "                 {'destination_name': 'London Waterloo',\n",
      "                  'estimated': '06:50',\n",
      "                  'operator_name': 'South West Trains',\n",
      "                  'origin_name': 'Guildford',\n",
      "                  'platform': '5',\n",
      "                  'scheduled': '06:50',\n",
      "                  'status': 'ON TIME'},\n",
      "                 {'destination_name': 'London Waterloo',\n",
      "                  'estimated': '06:53',\n",
      "                  'operator_name': 'South West Trains',\n",
      "                  'origin_name': 'Guildford',\n",
      "                  'platform': '5',\n",
      "                  'scheduled': '06:53',\n",
      "                  'status': 'EARLY'},\n",
      "                 {'destination_name': 'London Waterloo',\n",
      "                  'estimated': '06:58',\n",
      "                  'operator_name': 'South West Trains',\n",
      "                  'origin_name': 'Chessington South',\n",
      "                  'platform': '5',\n",
      "                  'scheduled': '06:58',\n",
      "                  'status': 'ON TIME'},\n",
      "                 {'destination_name': 'London Waterloo',\n",
      "                  'estimated': '07:02',\n",
      "                  'operator_name': 'South West Trains',\n",
      "                  'origin_name': 'London Waterloo',\n",
      "                  'platform': '5',\n",
      "                  'scheduled': '07:02',\n",
      "                  'status': 'EARLY'},\n",
      "                 {'destination_name': 'London Waterloo',\n",
      "                  'estimated': '07:05',\n",
      "                  'operator_name': 'South West Trains',\n",
      "                  'origin_name': 'Woking',\n",
      "                  'platform': '5',\n",
      "                  'scheduled': '07:05',\n",
      "                  'status': 'ON TIME'},\n",
      "                 {'destination_name': 'London Waterloo',\n",
      "                  'estimated': '07:08',\n",
      "                  'operator_name': 'South West Trains',\n",
      "                  'origin_name': 'Dorking',\n",
      "                  'platform': '5',\n",
      "                  'scheduled': '07:08',\n",
      "                  'status': 'ON TIME'},\n",
      "                 {'destination_name': 'London Waterloo',\n",
      "                  'estimated': '07:13',\n",
      "                  'operator_name': 'South West Trains',\n",
      "                  'origin_name': 'Hampton Court',\n",
      "                  'platform': '5',\n",
      "                  'scheduled': '07:13',\n",
      "                  'status': 'ON TIME'},\n",
      "                 {'destination_name': 'London Waterloo',\n",
      "                  'estimated': '07:13',\n",
      "                  'operator_name': 'South West Trains',\n",
      "                  'origin_name': 'London Waterloo',\n",
      "                  'platform': '8',\n",
      "                  'scheduled': '07:13',\n",
      "                  'status': 'ON TIME'},\n",
      "                 {'destination_name': 'London Waterloo',\n",
      "                  'estimated': '07:16',\n",
      "                  'operator_name': 'South West Trains',\n",
      "                  'origin_name': 'Shepperton',\n",
      "                  'platform': '5',\n",
      "                  'scheduled': '07:16',\n",
      "                  'status': 'ON TIME'},\n",
      "                 {'destination_name': 'London Waterloo',\n",
      "                  'estimated': '07:19',\n",
      "                  'operator_name': 'South West Trains',\n",
      "                  'origin_name': 'Guildford',\n",
      "                  'platform': '5',\n",
      "                  'scheduled': '07:19',\n",
      "                  'status': 'ON TIME'},\n",
      "                 {'destination_name': 'London Waterloo',\n",
      "                  'estimated': '07:22',\n",
      "                  'operator_name': 'South West Trains',\n",
      "                  'origin_name': 'Guildford',\n",
      "                  'platform': '5',\n",
      "                  'scheduled': '07:22',\n",
      "                  'status': 'ON TIME'},\n",
      "                 {'destination_name': 'London Waterloo',\n",
      "                  'estimated': '07:25',\n",
      "                  'operator_name': 'South West Trains',\n",
      "                  'origin_name': 'Esher',\n",
      "                  'platform': '5',\n",
      "                  'scheduled': '07:25',\n",
      "                  'status': 'ON TIME'},\n",
      "                 {'destination_name': 'London Waterloo',\n",
      "                  'estimated': '07:28',\n",
      "                  'operator_name': 'South West Trains',\n",
      "                  'origin_name': 'Chessington South',\n",
      "                  'platform': '5',\n",
      "                  'scheduled': '07:28',\n",
      "                  'status': 'ON TIME'},\n",
      "                 {'destination_name': 'London Waterloo',\n",
      "                  'estimated': '07:32',\n",
      "                  'operator_name': 'South West Trains',\n",
      "                  'origin_name': 'London Waterloo',\n",
      "                  'platform': '5',\n",
      "                  'scheduled': '07:32',\n",
      "                  'status': 'ON TIME'}],\n",
      " 'station_code': 'WIM'}\n"
     ]
    },
    {
     "name": "stderr",
     "output_type": "stream",
     "text": [
      "/Users/robincole/anaconda3/lib/python3.5/site-packages/ipykernel/__main__.py:10: ResourceWarning: unclosed file <_io.TextIOWrapper name='uk_transport_train.json' mode='r' encoding='UTF-8'>\n",
      "ok\n",
      "\n",
      "----------------------------------------------------------------------\n",
      "Ran 1 test in 0.068s\n",
      "\n",
      "OK\n"
     ]
    },
    {
     "data": {
      "text/plain": [
       "<unittest.main.TestProgram at 0x112e65ba8>"
      ]
     },
     "execution_count": 238,
     "metadata": {},
     "output_type": "execute_result"
    }
   ],
   "source": [
    "station_code = 'WIM'\n",
    "destination_name = 'WAT'\n",
    "\n",
    "class TestLondonTubeSensor(unittest.TestCase):\n",
    "    \n",
    "    def test_train_class(self): \n",
    "    \n",
    "        with requests_mock.mock() as m:\n",
    "            url = 'https://transportapi.com/v3/uk/train/station/WIM/live.json?app_id={}&app_key={}&darwin=false&destination=WAT&train_status=passenger'.format(CONF_API_APP_ID, CONF_API_APP_KEY)\n",
    "            m.get(url, text=open('uk_transport_train.json').read())\n",
    "            Train_sensor_1 = UkTransportLiveTrainTimeSensor(CONF_API_APP_ID, CONF_API_APP_KEY, station_code, destination_name)\n",
    "            Train_sensor_1.update()\n",
    "\n",
    "            assert type(Train_sensor_1.state) == int\n",
    "            assert Train_sensor_1.name == 'Next train to WAT'\n",
    "            assert Train_sensor_1.icon == 'mdi:train'\n",
    "            assert Train_sensor_1.unit_of_measurement == 'min'\n",
    "            \n",
    "            attrs = Train_sensor_1.device_state_attributes\n",
    "            assert len(attrs['next_trains']) == 25\n",
    "            assert attrs['next_trains'][0]['destination_name'] == 'London Waterloo'\n",
    "            assert attrs['next_trains'][0]['estimated'] == '06:13'\n",
    "            \n",
    "        \n",
    "        \n",
    "unittest.main(argv=['ignored', '-v'], exit=False)"
   ]
  },
  {
   "cell_type": "code",
   "execution_count": 224,
   "metadata": {
    "collapsed": false
   },
   "outputs": [
    {
     "name": "stdout",
     "output_type": "stream",
     "text": [
      "train/station/WIM/live.json\n"
     ]
    }
   ],
   "source": [
    "with requests_mock.mock() as m:\n",
    "    url = 'https://transportapi.com/v3/uk/train/station/WIM/live.json?app_id={}&app_key={}&darwin=false&destination=WAT&train_status=passenger'.format(CONF_API_APP_ID, CONF_API_APP_KEY)\n",
    "    m.get(url, text=open('uk_transport_train.json').read())\n",
    "    Train_sensor_1 = UkTransportLiveTrainTimeSensor(CONF_API_APP_ID, CONF_API_APP_KEY, station_code, destination_name)\n",
    "    Train_sensor_1.update()"
   ]
  },
  {
   "cell_type": "code",
   "execution_count": 227,
   "metadata": {
    "collapsed": false
   },
   "outputs": [
    {
     "data": {
      "text/plain": [
       "'min'"
      ]
     },
     "execution_count": 227,
     "metadata": {},
     "output_type": "execute_result"
    }
   ],
   "source": [
    "Train_sensor_1.unit_of_measurement"
   ]
  },
  {
   "cell_type": "code",
   "execution_count": 186,
   "metadata": {
    "collapsed": false
   },
   "outputs": [],
   "source": [
    "assert type(Train_sensor_1.state) == int"
   ]
  },
  {
   "cell_type": "code",
   "execution_count": 231,
   "metadata": {
    "collapsed": false
   },
   "outputs": [
    {
     "name": "stdout",
     "output_type": "stream",
     "text": [
      "{'attribution': 'Data provided by transportapi.com',\n",
      " 'destination_name': None,\n",
      " 'next_trains': [{'destination_name': 'London Waterloo',\n",
      "                  'estimated': '06:13',\n",
      "                  'operator_name': 'South West Trains',\n",
      "                  'origin_name': 'Wimbledon',\n",
      "                  'platform': '8',\n",
      "                  'scheduled': '06:13',\n",
      "                  'status': 'STARTS HERE'},\n",
      "                 {'destination_name': 'London Waterloo',\n",
      "                  'estimated': '06:14',\n",
      "                  'operator_name': 'South West Trains',\n",
      "                  'origin_name': 'Hampton Court',\n",
      "                  'platform': '5',\n",
      "                  'scheduled': '06:14',\n",
      "                  'status': 'EARLY'},\n",
      "                 {'destination_name': 'London Waterloo',\n",
      "                  'estimated': '06:20',\n",
      "                  'operator_name': 'South West Trains',\n",
      "                  'origin_name': 'Guildford',\n",
      "                  'platform': '5',\n",
      "                  'scheduled': '06:20',\n",
      "                  'status': 'ON TIME'},\n",
      "                 {'destination_name': 'London Waterloo',\n",
      "                  'estimated': '06:23',\n",
      "                  'operator_name': 'South West Trains',\n",
      "                  'origin_name': 'Dorking',\n",
      "                  'platform': '5',\n",
      "                  'scheduled': '06:23',\n",
      "                  'status': 'ON TIME'},\n",
      "                 {'destination_name': 'London Waterloo',\n",
      "                  'estimated': '06:32',\n",
      "                  'operator_name': 'South West Trains',\n",
      "                  'origin_name': 'London Waterloo',\n",
      "                  'platform': '5',\n",
      "                  'scheduled': '06:32',\n",
      "                  'status': 'ON TIME'},\n",
      "                 {'destination_name': 'London Waterloo',\n",
      "                  'estimated': '06:35',\n",
      "                  'operator_name': 'South West Trains',\n",
      "                  'origin_name': 'Woking',\n",
      "                  'platform': '5',\n",
      "                  'scheduled': '06:35',\n",
      "                  'status': 'ON TIME'},\n",
      "                 {'destination_name': 'London Waterloo',\n",
      "                  'estimated': '06:38',\n",
      "                  'operator_name': 'South West Trains',\n",
      "                  'origin_name': 'Epsom',\n",
      "                  'platform': '5',\n",
      "                  'scheduled': '06:38',\n",
      "                  'status': 'ON TIME'},\n",
      "                 {'destination_name': 'London Waterloo',\n",
      "                  'estimated': '06:43',\n",
      "                  'operator_name': 'South West Trains',\n",
      "                  'origin_name': 'London Waterloo',\n",
      "                  'platform': '8',\n",
      "                  'scheduled': '06:43',\n",
      "                  'status': 'ON TIME'},\n",
      "                 {'destination_name': 'London Waterloo',\n",
      "                  'estimated': '06:44',\n",
      "                  'operator_name': 'South West Trains',\n",
      "                  'origin_name': 'Hampton Court',\n",
      "                  'platform': '5',\n",
      "                  'scheduled': '06:44',\n",
      "                  'status': 'ON TIME'},\n",
      "                 {'destination_name': 'London Waterloo',\n",
      "                  'estimated': '06:47',\n",
      "                  'operator_name': 'South West Trains',\n",
      "                  'origin_name': 'Shepperton',\n",
      "                  'platform': '5',\n",
      "                  'scheduled': '06:47',\n",
      "                  'status': 'ON TIME'},\n",
      "                 {'destination_name': 'London Waterloo',\n",
      "                  'estimated': '06:48',\n",
      "                  'operator_name': 'South West Trains',\n",
      "                  'origin_name': 'Basingstoke',\n",
      "                  'platform': '6',\n",
      "                  'scheduled': '06:47',\n",
      "                  'status': 'LATE'},\n",
      "                 {'destination_name': 'London Waterloo',\n",
      "                  'estimated': '06:50',\n",
      "                  'operator_name': 'South West Trains',\n",
      "                  'origin_name': 'Guildford',\n",
      "                  'platform': '5',\n",
      "                  'scheduled': '06:50',\n",
      "                  'status': 'ON TIME'},\n",
      "                 {'destination_name': 'London Waterloo',\n",
      "                  'estimated': '06:53',\n",
      "                  'operator_name': 'South West Trains',\n",
      "                  'origin_name': 'Guildford',\n",
      "                  'platform': '5',\n",
      "                  'scheduled': '06:53',\n",
      "                  'status': 'EARLY'},\n",
      "                 {'destination_name': 'London Waterloo',\n",
      "                  'estimated': '06:58',\n",
      "                  'operator_name': 'South West Trains',\n",
      "                  'origin_name': 'Chessington South',\n",
      "                  'platform': '5',\n",
      "                  'scheduled': '06:58',\n",
      "                  'status': 'ON TIME'},\n",
      "                 {'destination_name': 'London Waterloo',\n",
      "                  'estimated': '07:02',\n",
      "                  'operator_name': 'South West Trains',\n",
      "                  'origin_name': 'London Waterloo',\n",
      "                  'platform': '5',\n",
      "                  'scheduled': '07:02',\n",
      "                  'status': 'EARLY'},\n",
      "                 {'destination_name': 'London Waterloo',\n",
      "                  'estimated': '07:05',\n",
      "                  'operator_name': 'South West Trains',\n",
      "                  'origin_name': 'Woking',\n",
      "                  'platform': '5',\n",
      "                  'scheduled': '07:05',\n",
      "                  'status': 'ON TIME'},\n",
      "                 {'destination_name': 'London Waterloo',\n",
      "                  'estimated': '07:08',\n",
      "                  'operator_name': 'South West Trains',\n",
      "                  'origin_name': 'Dorking',\n",
      "                  'platform': '5',\n",
      "                  'scheduled': '07:08',\n",
      "                  'status': 'ON TIME'},\n",
      "                 {'destination_name': 'London Waterloo',\n",
      "                  'estimated': '07:13',\n",
      "                  'operator_name': 'South West Trains',\n",
      "                  'origin_name': 'Hampton Court',\n",
      "                  'platform': '5',\n",
      "                  'scheduled': '07:13',\n",
      "                  'status': 'ON TIME'},\n",
      "                 {'destination_name': 'London Waterloo',\n",
      "                  'estimated': '07:13',\n",
      "                  'operator_name': 'South West Trains',\n",
      "                  'origin_name': 'London Waterloo',\n",
      "                  'platform': '8',\n",
      "                  'scheduled': '07:13',\n",
      "                  'status': 'ON TIME'},\n",
      "                 {'destination_name': 'London Waterloo',\n",
      "                  'estimated': '07:16',\n",
      "                  'operator_name': 'South West Trains',\n",
      "                  'origin_name': 'Shepperton',\n",
      "                  'platform': '5',\n",
      "                  'scheduled': '07:16',\n",
      "                  'status': 'ON TIME'},\n",
      "                 {'destination_name': 'London Waterloo',\n",
      "                  'estimated': '07:19',\n",
      "                  'operator_name': 'South West Trains',\n",
      "                  'origin_name': 'Guildford',\n",
      "                  'platform': '5',\n",
      "                  'scheduled': '07:19',\n",
      "                  'status': 'ON TIME'},\n",
      "                 {'destination_name': 'London Waterloo',\n",
      "                  'estimated': '07:22',\n",
      "                  'operator_name': 'South West Trains',\n",
      "                  'origin_name': 'Guildford',\n",
      "                  'platform': '5',\n",
      "                  'scheduled': '07:22',\n",
      "                  'status': 'ON TIME'},\n",
      "                 {'destination_name': 'London Waterloo',\n",
      "                  'estimated': '07:25',\n",
      "                  'operator_name': 'South West Trains',\n",
      "                  'origin_name': 'Esher',\n",
      "                  'platform': '5',\n",
      "                  'scheduled': '07:25',\n",
      "                  'status': 'ON TIME'},\n",
      "                 {'destination_name': 'London Waterloo',\n",
      "                  'estimated': '07:28',\n",
      "                  'operator_name': 'South West Trains',\n",
      "                  'origin_name': 'Chessington South',\n",
      "                  'platform': '5',\n",
      "                  'scheduled': '07:28',\n",
      "                  'status': 'ON TIME'},\n",
      "                 {'destination_name': 'London Waterloo',\n",
      "                  'estimated': '07:32',\n",
      "                  'operator_name': 'South West Trains',\n",
      "                  'origin_name': 'London Waterloo',\n",
      "                  'platform': '5',\n",
      "                  'scheduled': '07:32',\n",
      "                  'status': 'ON TIME'}],\n",
      " 'station_code': 'WIM'}\n"
     ]
    }
   ],
   "source": [
    "attrs = Train_sensor_1.device_state_attributes\n",
    "#attrs"
   ]
  },
  {
   "cell_type": "code",
   "execution_count": 235,
   "metadata": {
    "collapsed": false
   },
   "outputs": [
    {
     "data": {
      "text/plain": [
       "{'destination_name': 'London Waterloo',\n",
       " 'estimated': '06:13',\n",
       " 'operator_name': 'South West Trains',\n",
       " 'origin_name': 'Wimbledon',\n",
       " 'platform': '8',\n",
       " 'scheduled': '06:13',\n",
       " 'status': 'STARTS HERE'}"
      ]
     },
     "execution_count": 235,
     "metadata": {},
     "output_type": "execute_result"
    }
   ],
   "source": [
    "attrs['next_trains'][0]"
   ]
  },
  {
   "cell_type": "code",
   "execution_count": 237,
   "metadata": {
    "collapsed": false
   },
   "outputs": [
    {
     "data": {
      "text/plain": [
       "'06:13'"
      ]
     },
     "execution_count": 237,
     "metadata": {},
     "output_type": "execute_result"
    }
   ],
   "source": [
    "attrs['next_trains'][0]['estimated']"
   ]
  },
  {
   "cell_type": "code",
   "execution_count": null,
   "metadata": {
    "collapsed": true
   },
   "outputs": [],
   "source": []
  }
 ],
 "metadata": {
  "anaconda-cloud": {},
  "kernelspec": {
   "display_name": "Python [conda root]",
   "language": "python",
   "name": "conda-root-py"
  },
  "language_info": {
   "codemirror_mode": {
    "name": "ipython",
    "version": 3
   },
   "file_extension": ".py",
   "mimetype": "text/x-python",
   "name": "python",
   "nbconvert_exporter": "python",
   "pygments_lexer": "ipython3",
   "version": "3.5.3"
  }
 },
 "nbformat": 4,
 "nbformat_minor": 1
}
